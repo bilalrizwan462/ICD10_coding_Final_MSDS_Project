{
 "cells": [
  {
   "cell_type": "code",
   "execution_count": 1,
   "id": "40186046",
   "metadata": {},
   "outputs": [
    {
     "name": "stdout",
     "output_type": "stream",
     "text": [
      "Requirement already satisfied: transformers in d:\\anaconda3\\lib\\site-packages (4.21.3)\n",
      "Requirement already satisfied: tokenizers!=0.11.3,<0.13,>=0.11.1 in d:\\anaconda3\\lib\\site-packages (from transformers) (0.11.4)\n",
      "Requirement already satisfied: huggingface-hub<1.0,>=0.1.0 in d:\\anaconda3\\lib\\site-packages (from transformers) (0.17.2)\n",
      "Requirement already satisfied: requests in d:\\anaconda3\\lib\\site-packages (from transformers) (2.28.1)\n",
      "Requirement already satisfied: pyyaml>=5.1 in d:\\anaconda3\\lib\\site-packages (from transformers) (6.0)\n",
      "Requirement already satisfied: filelock in d:\\anaconda3\\lib\\site-packages (from transformers) (3.12.4)\n",
      "Requirement already satisfied: regex!=2019.12.17 in d:\\anaconda3\\lib\\site-packages (from transformers) (2022.7.9)\n",
      "Requirement already satisfied: tqdm>=4.27 in d:\\anaconda3\\lib\\site-packages (from transformers) (4.64.1)\n",
      "Requirement already satisfied: numpy>=1.17 in d:\\anaconda3\\lib\\site-packages (from transformers) (1.23.5)\n",
      "Requirement already satisfied: packaging>=20.0 in d:\\anaconda3\\lib\\site-packages (from transformers) (22.0)\n",
      "Requirement already satisfied: fsspec in d:\\anaconda3\\lib\\site-packages (from huggingface-hub<1.0,>=0.1.0->transformers) (2023.6.0)\n",
      "Requirement already satisfied: typing-extensions>=3.7.4.3 in d:\\anaconda3\\lib\\site-packages (from huggingface-hub<1.0,>=0.1.0->transformers) (4.8.0)\n",
      "Requirement already satisfied: colorama in d:\\anaconda3\\lib\\site-packages (from tqdm>=4.27->transformers) (0.4.6)\n",
      "Requirement already satisfied: certifi>=2017.4.17 in d:\\anaconda3\\lib\\site-packages (from requests->transformers) (2022.12.7)\n",
      "Requirement already satisfied: urllib3<1.27,>=1.21.1 in d:\\anaconda3\\lib\\site-packages (from requests->transformers) (1.26.14)\n",
      "Requirement already satisfied: idna<4,>=2.5 in d:\\anaconda3\\lib\\site-packages (from requests->transformers) (3.4)\n",
      "Requirement already satisfied: charset-normalizer<3,>=2 in d:\\anaconda3\\lib\\site-packages (from requests->transformers) (2.0.4)\n"
     ]
    },
    {
     "name": "stderr",
     "output_type": "stream",
     "text": [
      "WARNING: Ignoring invalid distribution -cipy (d:\\anaconda3\\lib\\site-packages)\n",
      "WARNING: Ignoring invalid distribution -cipy (d:\\anaconda3\\lib\\site-packages)\n",
      "WARNING: Ignoring invalid distribution -cipy (d:\\anaconda3\\lib\\site-packages)\n",
      "WARNING: Ignoring invalid distribution -cipy (d:\\anaconda3\\lib\\site-packages)\n",
      "WARNING: Ignoring invalid distribution -cipy (d:\\anaconda3\\lib\\site-packages)\n",
      "WARNING: Ignoring invalid distribution -cipy (d:\\anaconda3\\lib\\site-packages)\n"
     ]
    }
   ],
   "source": [
    "!pip install transformers"
   ]
  },
  {
   "cell_type": "code",
   "execution_count": 1,
   "id": "fd56dcce",
   "metadata": {},
   "outputs": [
    {
     "name": "stderr",
     "output_type": "stream",
     "text": [
      "[nltk_data] Downloading package stopwords to\n",
      "[nltk_data]     C:\\Users\\BILAL\\AppData\\Roaming\\nltk_data...\n",
      "[nltk_data]   Package stopwords is already up-to-date!\n"
     ]
    }
   ],
   "source": [
    "from transformers import BertTokenizer, BertForSequenceClassification\n",
    "\n",
    "from nltk.corpus import stopwords\n",
    "import nltk\n",
    "nltk.download('stopwords')\n",
    "\n",
    "import re\n",
    "import pandas as pd\n",
    "import numpy as np\n",
    "import pickle\n",
    "import seaborn as sns\n",
    "\n",
    "from matplotlib import pyplot as plt\n",
    "from transformers import pipeline, TextClassificationPipeline\n"
   ]
  },
  {
   "cell_type": "code",
   "execution_count": 2,
   "id": "95ff97df",
   "metadata": {},
   "outputs": [],
   "source": [
    "Category_model = BertForSequenceClassification.from_pretrained('Emran/ClinicalBERT_ICD10_Categories')\n",
    "Category_tokenizer = BertTokenizer.from_pretrained('Emran/ClinicalBERT_ICD10_Categories')\n"
   ]
  },
  {
   "cell_type": "code",
   "execution_count": 3,
   "id": "aaa9368f",
   "metadata": {},
   "outputs": [
    {
     "name": "stderr",
     "output_type": "stream",
     "text": [
      "Xformers is not installed correctly. If you want to use memory_efficient_attention to accelerate training use the following command to install Xformers\n",
      "pip install xformers.\n"
     ]
    }
   ],
   "source": [
    "Category_classifier = pipeline('text-classification', model = Category_model, tokenizer = Category_tokenizer)\n"
   ]
  },
  {
   "cell_type": "code",
   "execution_count": 7,
   "id": "bc04bfe8",
   "metadata": {},
   "outputs": [],
   "source": [
    "example = '46YR OLD F HTN DM \\nS/P LEFT MRM 20-4-19 AT TIH \\n\\nNOW PRESENTS IN ER FOR CHANGE OF FLAP DRAIN \\n\\nC/O LEFT ARM PAIN ---INCREASES ON MOVING ARM \\nDENIES FEVER \\nON VOREN AND OANADOOL, OHG ENTI HTN \\nO/E-> CHEST CLEAR \\nABD SOFT NON TENDER\\nSURGICAL WOUND NO SIGNS OF INFLAMMATION STICTCHES IN PLACE\\nFLAP RADIVAC DRAIN--> NIL--> CHANGED LAST NIGHT\\n---------------\\nDC ON PREVIOUS MEDS\\nDRAIN CHANGED IN ER \\nFU IN G/S OPD AS PER SCHEDULE \\nCONTNUE AR EXERCISES'"
   ]
  },
  {
   "cell_type": "code",
   "execution_count": 9,
   "id": "6ab60db4",
   "metadata": {},
   "outputs": [
    {
     "data": {
      "text/plain": [
       "[{'label': 'R42', 'score': 0.035132892429828644}]"
      ]
     },
     "execution_count": 9,
     "metadata": {},
     "output_type": "execute_result"
    }
   ],
   "source": [
    "(Category_classifier(example))"
   ]
  },
  {
   "cell_type": "code",
   "execution_count": 4,
   "id": "679b5e9a",
   "metadata": {},
   "outputs": [],
   "source": [
    "medical_stopwords = stopwords.words(\"english\")\n",
    "\n",
    "\n",
    "medical_stopwords.extend(['speaking', 'none', 'time', 'flush'])"
   ]
  },
  {
   "cell_type": "code",
   "execution_count": 5,
   "id": "02953396",
   "metadata": {},
   "outputs": [],
   "source": [
    "def process_clinical_note(clinical_note):\n",
    "    # Define the sections to remove\n",
    "    sections_to_remove = [\n",
    "        \"Name:\",\n",
    "        \"Unit No:\",\n",
    "        \"Admission Date:\",\n",
    "        \"Discharge Date:\",\n",
    "        \"Date of Birth:\",\n",
    "        \"Sex:\",\n",
    "        \"Service:\",\n",
    "        \"Allergies:\",\n",
    "        \"Attending:\",\n",
    "        \"Past Medical History:\",\n",
    "        \"Social History:\",\n",
    "        \"Family History:\",\n",
    "        \"Vitals:\",\n",
    "        \"Pertinent Results:\",\n",
    "        \"Medications on Admission:\",\n",
    "        \"Discharge Medications:\",\n",
    "        \"Discharge Disposition:\",\n",
    "        \"Discharge Condition:\",\n",
    "        \"Discharge Instructions:\",\n",
    "        \"Followup Instructions:\"\n",
    "    ]\n",
    "\n",
    "    # Split the clinical note into lines\n",
    "    lines = clinical_note.split('\\n')\n",
    "\n",
    "    # Initialize the processed note\n",
    "    processed_note = []\n",
    "\n",
    "    # Flag to exclude lines within unwanted sections\n",
    "    exclude_section = False\n",
    "\n",
    "    # Iterate through the lines and filter unwanted sections\n",
    "    for line in lines:\n",
    "        if any(section in line for section in sections_to_remove):\n",
    "            exclude_section = True\n",
    "        elif line.strip() == \"\":\n",
    "            # Empty lines separate sections, so reset the flag\n",
    "            exclude_section = False\n",
    "\n",
    "        if not exclude_section:\n",
    "            processed_note.append(line)\n",
    "\n",
    "    # Join the lines to create the final note\n",
    "    final_note = '\\n '.join(processed_note)\n",
    "    \n",
    "    sections_to_remove = [\n",
    "        r'chief complaint',\n",
    "        r'history of present illness',\n",
    "        r'Major Surgical or Invasive Procedure',\n",
    "        r'physical exam',\n",
    "        r'brief hospital course',\n",
    "        r'Discharge',\n",
    "        \n",
    "        r'completed by',\n",
    "    ]\n",
    "    \n",
    "    for pattern in sections_to_remove:\n",
    "        final_note = re.sub(pattern, '', final_note, flags=re.IGNORECASE)\n",
    "\n",
    "    # Define patterns to identify negations\n",
    "    negation_patterns = [\n",
    "        r'no\\s+\\w+',\n",
    "        r'not\\s+\\w+',\n",
    "        r'did\\s+not\\s+have\\s+\\w+'\n",
    "    ]\n",
    "    \n",
    "    # Filter out sentences with negations\n",
    "    sentences = [sentence for sentence in final_note.split('\\n') if not any(re.search(pattern, sentence, re.IGNORECASE) for pattern in negation_patterns)]\n",
    "\n",
    "    # Remove keys and special characters\n",
    "    cleaned_note = re.sub(r'\\w+:', '', '\\n'.join(sentences), flags=re.IGNORECASE)  # Remove keys (case-insensitive)\n",
    "    cleaned_note = re.sub(r'[^a-zA-Z\\s]', '', cleaned_note)  # Remove special characters\n",
    "    # Tokenize the note into sentences based on '\\n'\n",
    "    sentences = [sentence.strip() for sentence in cleaned_note.split('\\n') if sentence.strip()]\n",
    "\n",
    "    # Remove stop words and empty sentences\n",
    "    sentences = [\n",
    "        ' '.join(word for word in sentence.split() if word.lower() not in medical_stopwords)\n",
    "        for sentence in sentences\n",
    "    ]\n",
    "    sentences = [item for item in sentences if item != '']\n",
    "\n",
    "    return sentences"
   ]
  },
  {
   "cell_type": "code",
   "execution_count": 6,
   "id": "28c5a703",
   "metadata": {},
   "outputs": [
    {
     "data": {
      "text/plain": [
       "' \\nName:  ___                   Unit No:   ___\\n \\nAdmission Date:  ___              Discharge Date:   ___\\n \\nDate of Birth:  ___             Sex:   F\\n \\nService: MEDICINE\\n \\nAllergies: \\nNo Known Allergies / Adverse Drug Reactions\\n \\nAttending: ___\\n \\nChief Complaint:\\nInpatient Hospice\\n \\nMajor Surgical or Invasive Procedure:\\nnone\\n\\n \\nHistory of Present Illness:\\nPatient was admitted to inpatient hospice at ___. For full H&P \\nsee prior discharge summary or admission note.\\n \\nPast Medical History:\\nEtOH cirrhosis  \\nCalculus of gallbladder without cholecystitis  \\nCOPD  \\nFatty liver  \\nIron deficiency anemia  \\nh/o aspiration pneumonitis  \\n\\nPast Surgical History:\\ns/p partial gastrectomy ___ for ulcers\\n\"revision\" of gastric ulcer surgery in ___ \\n\\n \\nSocial History:\\n___\\nFamily History:\\nMother w/ DM and ESRD on HD  \\nNo family members with liver disease. \\n\\n \\nPhysical Exam:\\nAdmission to inpatient hospice exam:\\nPatient lying comfortably in bed, sleeping. Breathing unlabored.\\n\\nDeath exam:\\nPatient not breathing. No breath or heart sounds. No palpable\\npulse. No pupillary reflexes. No withdrawal to firm nailbed\\npressure.\\nTime of death: ___\\n \\nPertinent Results:\\nSee prior discharge summary for full lab results and other \\nstudies. No labs or studies performed while patient on inpatient \\nhospice.\\n \\nBrief Hospital Course:\\nPatient admitted to inpatient hospice. Pain and agitation \\nmedications were titrated. Medications to manage secretions were \\nadded. Patient expired on ___ at ___.\\n \\nMedications on Admission:\\nThe Preadmission Medication list is accurate and complete.\\n1. Acetaminophen 500 mg PO Q6H:PRN Pain - Mild/Fever \\n2. Albuterol 0.083% Neb Soln 1 NEB IH Q6H:PRN Wheezing, SOB \\n3. Cepacol (Sore Throat Lozenge) 1 LOZ PO Q2H:PRN Throat \\nirritation  \\n4. GuaiFENesin ___ mL PO Q6H:PRN Cough  \\n5. Haloperidol 0.5-2 mg IV Q4H:PRN delirium \\n6. Heparin Flush (10 units/ml) 1 mL IV DAILY and PRN, VIP line \\nflush \\n7. Heparin Flush (10 units/ml) 2 mL IV DAILY and PRN, line flush \\n\\n8. HYDROmorphone (Dilaudid) 0.25-0.5 mg IV Q15MIN:PRN \\nmoderate-severe pain or respiratory distress \\n9. LORazepam 0.5-2 mg IV Q2H:PRN anxiety, nausea (first line) \\n10. Midodrine 20 mg PO Q6H \\n11. Ondansetron 4 mg IV Q8H:PRN Nausea/Vomiting - Second Line \\n12. Polyethylene Glycol 17 g PO DAILY:PRN Constipation - First \\nLine \\n13. rifAXIMin 550 mg PO BID \\n14. Simethicone 40-80 mg PO QID:PRN bloating \\n15. Sodium Chloride 0.9%  Flush 10 mL IV DAILY and PRN, line \\nflush \\n16. Sodium Chloride 0.9%  Flush 10 mL IV DAILY and PRN, line \\nflush \\n\\n \\nDischarge Medications:\\nnone\\n \\nDischarge Disposition:\\nExpired\\n \\nDischarge Diagnosis:\\n#Renal failure\\n#Liver failure\\n#VRE bloodstream infection\\n#Spontaneous bacterial peritonitis\\n#Alcoholic cirrhosis\\n\\n \\nDischarge Condition:\\npatient expired\\n\\n \\nDischarge Instructions:\\nPatient expired\\n \\nFollowup Instructions:\\n___\\n'"
      ]
     },
     "execution_count": 6,
     "metadata": {},
     "output_type": "execute_result"
    }
   ],
   "source": [
    "example_2 = ' \\nName:  ___                   Unit No:   ___\\n \\nAdmission Date:  ___              Discharge Date:   ___\\n \\nDate of Birth:  ___             Sex:   F\\n \\nService: MEDICINE\\n \\nAllergies: \\nNo Known Allergies / Adverse Drug Reactions\\n \\nAttending: ___\\n \\nChief Complaint:\\nInpatient Hospice\\n \\nMajor Surgical or Invasive Procedure:\\nnone\\n\\n \\nHistory of Present Illness:\\nPatient was admitted to inpatient hospice at ___. For full H&P \\nsee prior discharge summary or admission note.\\n \\nPast Medical History:\\nEtOH cirrhosis  \\nCalculus of gallbladder without cholecystitis  \\nCOPD  \\nFatty liver  \\nIron deficiency anemia  \\nh/o aspiration pneumonitis  \\n\\nPast Surgical History:\\ns/p partial gastrectomy ___ for ulcers\\n\"revision\" of gastric ulcer surgery in ___ \\n\\n \\nSocial History:\\n___\\nFamily History:\\nMother w/ DM and ESRD on HD  \\nNo family members with liver disease. \\n\\n \\nPhysical Exam:\\nAdmission to inpatient hospice exam:\\nPatient lying comfortably in bed, sleeping. Breathing unlabored.\\n\\nDeath exam:\\nPatient not breathing. No breath or heart sounds. No palpable\\npulse. No pupillary reflexes. No withdrawal to firm nailbed\\npressure.\\nTime of death: ___\\n \\nPertinent Results:\\nSee prior discharge summary for full lab results and other \\nstudies. No labs or studies performed while patient on inpatient \\nhospice.\\n \\nBrief Hospital Course:\\nPatient admitted to inpatient hospice. Pain and agitation \\nmedications were titrated. Medications to manage secretions were \\nadded. Patient expired on ___ at ___.\\n \\nMedications on Admission:\\nThe Preadmission Medication list is accurate and complete.\\n1. Acetaminophen 500 mg PO Q6H:PRN Pain - Mild/Fever \\n2. Albuterol 0.083% Neb Soln 1 NEB IH Q6H:PRN Wheezing, SOB \\n3. Cepacol (Sore Throat Lozenge) 1 LOZ PO Q2H:PRN Throat \\nirritation  \\n4. GuaiFENesin ___ mL PO Q6H:PRN Cough  \\n5. Haloperidol 0.5-2 mg IV Q4H:PRN delirium \\n6. Heparin Flush (10 units/ml) 1 mL IV DAILY and PRN, VIP line \\nflush \\n7. Heparin Flush (10 units/ml) 2 mL IV DAILY and PRN, line flush \\n\\n8. HYDROmorphone (Dilaudid) 0.25-0.5 mg IV Q15MIN:PRN \\nmoderate-severe pain or respiratory distress \\n9. LORazepam 0.5-2 mg IV Q2H:PRN anxiety, nausea (first line) \\n10. Midodrine 20 mg PO Q6H \\n11. Ondansetron 4 mg IV Q8H:PRN Nausea/Vomiting - Second Line \\n12. Polyethylene Glycol 17 g PO DAILY:PRN Constipation - First \\nLine \\n13. rifAXIMin 550 mg PO BID \\n14. Simethicone 40-80 mg PO QID:PRN bloating \\n15. Sodium Chloride 0.9%  Flush 10 mL IV DAILY and PRN, line \\nflush \\n16. Sodium Chloride 0.9%  Flush 10 mL IV DAILY and PRN, line \\nflush \\n\\n \\nDischarge Medications:\\nnone\\n \\nDischarge Disposition:\\nExpired\\n \\nDischarge Diagnosis:\\n#Renal failure\\n#Liver failure\\n#VRE bloodstream infection\\n#Spontaneous bacterial peritonitis\\n#Alcoholic cirrhosis\\n\\n \\nDischarge Condition:\\npatient expired\\n\\n \\nDischarge Instructions:\\nPatient expired\\n \\nFollowup Instructions:\\n___\\n'\n",
    "\n",
    "example_2"
   ]
  },
  {
   "cell_type": "code",
   "execution_count": 7,
   "id": "c3a9296d",
   "metadata": {},
   "outputs": [
    {
     "data": {
      "text/plain": [
       "['Inpatient Hospice',\n",
       " 'Patient admitted inpatient hospice full HP',\n",
       " 'see prior summary admission note',\n",
       " 'Past Surgical',\n",
       " 'sp partial gastrectomy ulcers',\n",
       " 'revision gastric ulcer surgery',\n",
       " 'Admission inpatient hospice',\n",
       " 'Patient lying comfortably bed sleeping Breathing unlabored',\n",
       " 'Death',\n",
       " 'pressure',\n",
       " 'Patient admitted inpatient hospice Pain agitation',\n",
       " 'medications titrated Medications manage secretions',\n",
       " 'added Patient expired',\n",
       " 'HYDROmorphone Dilaudid mg IV PRN',\n",
       " 'moderatesevere pain respiratory distress',\n",
       " 'LORazepam mg IV PRN anxiety nausea first line',\n",
       " 'Midodrine mg PO QH',\n",
       " 'Ondansetron mg IV PRN NauseaVomiting Second Line',\n",
       " 'Polyethylene Glycol g PO PRN Constipation First',\n",
       " 'Line',\n",
       " 'rifAXIMin mg PO BID',\n",
       " 'Simethicone mg PO PRN bloating',\n",
       " 'Sodium Chloride mL IV DAILY PRN line',\n",
       " 'Sodium Chloride mL IV DAILY PRN line',\n",
       " 'Renal failure',\n",
       " 'Liver failure',\n",
       " 'VRE bloodstream infection',\n",
       " 'Spontaneous bacterial peritonitis',\n",
       " 'Alcoholic cirrhosis']"
      ]
     },
     "execution_count": 7,
     "metadata": {},
     "output_type": "execute_result"
    }
   ],
   "source": [
    "diagnosis_sentences = process_clinical_note(example_2)\n",
    "diagnosis_sentences"
   ]
  },
  {
   "cell_type": "code",
   "execution_count": 24,
   "id": "b4655b38",
   "metadata": {},
   "outputs": [
    {
     "data": {
      "text/plain": [
       "[{'label': 'Z71', 'score': 0.6353513598442078},\n",
       " {'label': 'Z51', 'score': 0.39684420824050903},\n",
       " {'label': 'K91', 'score': 0.7322407364845276},\n",
       " {'label': 'R06', 'score': 0.2961735725402832},\n",
       " {'label': 'P13', 'score': 0.0158985648304224},\n",
       " {'label': 'R03', 'score': 0.6112291812896729},\n",
       " {'label': 'M54', 'score': 0.17420603334903717},\n",
       " {'label': 'R09', 'score': 0.041065897792577744},\n",
       " {'label': 'Z76', 'score': 0.020437845960259438},\n",
       " {'label': 'T51', 'score': 0.10893483459949493},\n",
       " {'label': 'J98', 'score': 0.41547977924346924},\n",
       " {'label': 'B07', 'score': 0.34735384583473206},\n",
       " {'label': 'E70', 'score': 0.09759749472141266},\n",
       " {'label': 'L98', 'score': 0.0581362247467041},\n",
       " {'label': 'N30', 'score': 0.09249883145093918},\n",
       " {'label': 'N19', 'score': 0.331452339887619},\n",
       " {'label': 'K76', 'score': 0.5551985502243042},\n",
       " {'label': 'A48', 'score': 0.22778862714767456},\n",
       " {'label': 'K65', 'score': 0.9026634693145752},\n",
       " {'label': 'K70', 'score': 0.9668816328048706}]"
      ]
     },
     "execution_count": 24,
     "metadata": {},
     "output_type": "execute_result"
    }
   ],
   "source": [
    "predicted_codes = [\n",
    "    item for item in (Category_classifier(diagnosis_sentences)) if item['score'] >= 0\n",
    "]\n",
    "# (Category_classifier(diagnosis_sentences))\n",
    "\n",
    "\n",
    "# Create a dictionary to store the highest score for each label\n",
    "unique_labels_dict = {}\n",
    "\n",
    "# Iterate through predicted codes and update the dictionary with the highest score\n",
    "for entry in predicted_codes:\n",
    "    label = entry['label']\n",
    "    score = entry['score']\n",
    "    \n",
    "    if label not in unique_labels_dict or score > unique_labels_dict[label]['score']:\n",
    "        unique_labels_dict[label] = {'score': score}\n",
    "\n",
    "# Create a new list with unique labels and their highest scores\n",
    "unique_predicted_codes = [{'label': label, 'score': entry['score']} for label, entry in unique_labels_dict.items()]\n",
    "\n",
    "# Print the result\n",
    "unique_predicted_codes\n",
    "\n"
   ]
  },
  {
   "cell_type": "code",
   "execution_count": 27,
   "id": "51efdfc0",
   "metadata": {},
   "outputs": [
    {
     "data": {
      "text/plain": [
       "[{'label': 'Z71', 'score': 0.6353513598442078},\n",
       " {'label': 'Z51', 'score': 0.39684420824050903},\n",
       " {'label': 'K91', 'score': 0.7322407364845276},\n",
       " {'label': 'R03', 'score': 0.6112291812896729},\n",
       " {'label': 'J98', 'score': 0.41547977924346924},\n",
       " {'label': 'B07', 'score': 0.34735384583473206},\n",
       " {'label': 'N19', 'score': 0.331452339887619},\n",
       " {'label': 'K76', 'score': 0.5551985502243042},\n",
       " {'label': 'K65', 'score': 0.9026634693145752},\n",
       " {'label': 'K70', 'score': 0.9668816328048706}]"
      ]
     },
     "execution_count": 27,
     "metadata": {},
     "output_type": "execute_result"
    }
   ],
   "source": [
    "threshold = 0.3\n",
    "filtered_data = [\n",
    "    item for item in (Category_classifier(diagnosis_sentences)) if item['score'] >= threshold and item['label']\n",
    "]\n",
    "\n",
    "\n",
    "# Create a dictionary to store the highest score for each label\n",
    "unique_labels_dict = {}\n",
    "\n",
    "# Iterate through predicted codes and update the dictionary with the highest score\n",
    "for entry in filtered_data:\n",
    "    label = entry['label']\n",
    "    score = entry['score']\n",
    "    \n",
    "    if label not in unique_labels_dict or score > unique_labels_dict[label]['score']:\n",
    "        unique_labels_dict[label] = {'score': score}\n",
    "\n",
    "# Create a new list with unique labels and their highest scores\n",
    "unique_predicted_codes = [{'label': label, 'score': entry['score']} for label, entry in unique_labels_dict.items()]\n",
    "\n",
    "# Print the result\n",
    "unique_predicted_codes\n"
   ]
  }
 ],
 "metadata": {
  "kernelspec": {
   "display_name": "Python 3 (ipykernel)",
   "language": "python",
   "name": "python3"
  },
  "language_info": {
   "codemirror_mode": {
    "name": "ipython",
    "version": 3
   },
   "file_extension": ".py",
   "mimetype": "text/x-python",
   "name": "python",
   "nbconvert_exporter": "python",
   "pygments_lexer": "ipython3",
   "version": "3.7.16"
  }
 },
 "nbformat": 4,
 "nbformat_minor": 5
}
